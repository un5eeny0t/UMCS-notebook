{
  "nbformat": 4,
  "nbformat_minor": 0,
  "metadata": {
    "colab": {
      "provenance": [],
      "collapsed_sections": [
        "_DVQCm9wr24Z",
        "zRMfVrYI2yn6",
        "QRF1A1C633J3",
        "EPkDPL0s22mC",
        "3lSBPThluqUo",
        "ZkAdGFiFxE8a",
        "WJg3sCZW5Vao",
        "uERcxxoUNuGg",
        "8R4IdTFo2Bi2",
        "XzXh54x37bnY"
      ]
    },
    "kernelspec": {
      "name": "python3",
      "display_name": "Python 3"
    },
    "language_info": {
      "name": "python"
    }
  },
  "cells": [
    {
      "cell_type": "markdown",
      "source": [
        "# Presequite"
      ],
      "metadata": {
        "id": "I95Wfydi0d9o"
      }
    },
    {
      "cell_type": "code",
      "source": [
        "!wget -O /home/conn.log.gz https://raw.githubusercontent.com/un5eeny0t/UMCS-notebook/main/conn.log.gz\n"
      ],
      "metadata": {
        "id": "-Fvb4D5C0iu4"
      },
      "execution_count": null,
      "outputs": []
    },
    {
      "cell_type": "markdown",
      "source": [
        "# Zeek Log Analysis in Colab\n",
        "\n",
        "\n",
        "\n"
      ],
      "metadata": {
        "id": "XzXh54x37bnY"
      }
    },
    {
      "cell_type": "markdown",
      "source": [
        "**Install Dependencies**\n",
        "\n",
        "---\n",
        "\n"
      ],
      "metadata": {
        "id": "rUDT9aloQKlf"
      }
    },
    {
      "cell_type": "code",
      "source": [
        "# Install any necessary packages\n",
        "!pip install pandas matplotlib\n"
      ],
      "metadata": {
        "collapsed": true,
        "id": "Sc3WrAJtQFOY"
      },
      "execution_count": null,
      "outputs": []
    },
    {
      "cell_type": "markdown",
      "source": [
        "\n",
        "**This code defines a function load_zeek_log that loads Zeek log files (compressed or plain text) into a pandas DataFrame, extracting headers from the #fields line and data from non-comment lines.**\n",
        "\n",
        "---\n",
        "\n"
      ],
      "metadata": {
        "id": "UlSMDIm_0flJ"
      }
    },
    {
      "cell_type": "code",
      "source": [
        "import pandas as pd\n",
        "import gzip\n",
        "from io import StringIO\n",
        "\n",
        "def load_zeek_log(filepath):\n",
        "    # Automatically handle .gz files\n",
        "    open_func = gzip.open if filepath.endswith('.gz') else open\n",
        "\n",
        "    with open_func(filepath, 'rt') as file:\n",
        "        lines = file.readlines()\n",
        "\n",
        "    # Extract header line\n",
        "    header_line = next((line for line in lines if line.startswith('#fields')), None)\n",
        "    if not header_line:\n",
        "        raise ValueError(\"No #fields line found in Zeek log\")\n",
        "\n",
        "    headers = header_line.strip().split()[1:]  # Remove '#fields'\n",
        "\n",
        "    # Extract data lines\n",
        "    data_lines = [line for line in lines if not line.startswith('#')]\n",
        "\n",
        "    # Load into DataFrame\n",
        "    return pd.read_csv(StringIO(''.join(data_lines)), sep='\\t', names=headers)\n"
      ],
      "metadata": {
        "id": "DoPFOR7IMtSP"
      },
      "execution_count": null,
      "outputs": []
    },
    {
      "cell_type": "markdown",
      "source": [
        "**This code loads the Zeek connection log (conn.log.gz) into a pandas DataFrame using the load_zeek_log function and displays the first few rows of the DataFrame with head().**\n",
        "\n",
        "---\n",
        "\n"
      ],
      "metadata": {
        "id": "OhzM5WTc0vkh"
      }
    },
    {
      "cell_type": "code",
      "source": [
        "conn_df = load_zeek_log(\"/home/conn.log.gz\")\n",
        "conn_df.head()\n"
      ],
      "metadata": {
        "id": "ugdPj20FMswm"
      },
      "execution_count": null,
      "outputs": []
    },
    {
      "cell_type": "markdown",
      "source": [
        "# Basic analysis\n",
        "\n",
        "---\n",
        "\n"
      ],
      "metadata": {
        "id": "sVMgyrHgOAtu"
      }
    },
    {
      "cell_type": "markdown",
      "source": [
        "# Top 10 source IPs"
      ],
      "metadata": {
        "id": "keakweWoRhEA"
      }
    },
    {
      "cell_type": "markdown",
      "source": [
        "**Counts the occurrences of unique values in the id.orig_h column (which likely represents the original host IP addresses) of the conn_df DataFrame and displays the top 10 most frequent values.**\n",
        "\n",
        "---\n",
        "\n"
      ],
      "metadata": {
        "id": "hPUZPvlB05vh"
      }
    },
    {
      "cell_type": "code",
      "source": [
        "conn_df['id.orig_h'].value_counts().head(10)\n"
      ],
      "metadata": {
        "id": "9CSDfYCvOFB-"
      },
      "execution_count": null,
      "outputs": []
    },
    {
      "cell_type": "markdown",
      "source": [
        "# Top Destination Ports"
      ],
      "metadata": {
        "id": "utaxR11ERmFW"
      }
    },
    {
      "cell_type": "markdown",
      "source": [
        "**Counts the occurrences of unique values in the id.resp_p column (which likely represents the response port numbers) of the conn_df DataFrame and displays the top 10 most frequent values.**\n",
        "\n",
        "---\n",
        "\n"
      ],
      "metadata": {
        "id": "_4BNTcPN0_SD"
      }
    },
    {
      "cell_type": "code",
      "source": [
        "conn_df['id.resp_p'].value_counts().head(10)\n"
      ],
      "metadata": {
        "id": "sw6oG-0wOiDn"
      },
      "execution_count": null,
      "outputs": []
    },
    {
      "cell_type": "markdown",
      "source": [
        "# Most Frequent Protocols"
      ],
      "metadata": {
        "id": "kQ8OFENfRpBu"
      }
    },
    {
      "cell_type": "markdown",
      "source": [
        "**Counts the occurrences of unique values in the proto column (which represents the protocol used, such as TCP, UDP, etc.) of the conn_df DataFrame and displays the counts for each protocol.**\n",
        "\n",
        "---\n",
        "\n"
      ],
      "metadata": {
        "id": "qC0OnTOL1JFy"
      }
    },
    {
      "cell_type": "code",
      "source": [
        "conn_df['proto'].value_counts()\n"
      ],
      "metadata": {
        "id": "szvq2rZMOj81"
      },
      "execution_count": null,
      "outputs": []
    },
    {
      "cell_type": "markdown",
      "source": [
        "Plot Traffic Volume"
      ],
      "metadata": {
        "id": "oskwZFLIRsP-"
      }
    },
    {
      "cell_type": "markdown",
      "source": [
        " **Creates a bar chart that visualizes the frequency of each unique value in the proto column (representing network protocols like TCP, UDP, etc.) of the conn_df DataFrame using pandas' built-in plotting functionality.**\n",
        "\n",
        "\n",
        "---\n",
        "\n"
      ],
      "metadata": {
        "id": "Y-S1t4f91SDy"
      }
    },
    {
      "cell_type": "code",
      "source": [
        "conn_df['proto'].value_counts().plot(kind='bar')\n"
      ],
      "metadata": {
        "id": "UfQ-2nsnOmxO"
      },
      "execution_count": null,
      "outputs": []
    },
    {
      "cell_type": "markdown",
      "source": [
        "**Defines a function load_zeek_log to load a gzipped Zeek log file (conn.log.gz), read its content line by line, and return the lines as a list. Then, it loads the log file and prints the first 10 lines of the file for preview.**\n",
        "\n",
        "---\n",
        "\n"
      ],
      "metadata": {
        "id": "5njnT51G1a_d"
      }
    },
    {
      "cell_type": "code",
      "source": [
        "import gzip\n",
        "\n",
        "# Load gzipped Zeek log file\n",
        "def load_zeek_log(file_path):\n",
        "    with gzip.open(file_path, 'rt') as f:  # 'rt' = read text mode\n",
        "        lines = f.readlines()\n",
        "    return lines\n",
        "\n",
        "# Load the conn.log.gz\n",
        "log_lines = load_zeek_log(\"/home/conn.log.gz\")\n",
        "\n",
        "# Preview the first 10 lines\n",
        "for line in log_lines[:10]:\n",
        "    print(line.strip())\n"
      ],
      "metadata": {
        "id": "YRCXdWeGi-Hm"
      },
      "execution_count": null,
      "outputs": []
    },
    {
      "cell_type": "markdown",
      "source": [
        "**Defines a function parse_zeek_log that parses a list of Zeek log lines, extracts the column names from the #fields line, skips comment lines, and creates a pandas DataFrame with the log data. It then parses the conn.log content (log_lines) and displays the first few rows of the resulting DataFrame.**\n",
        "\n",
        "---\n",
        "\n"
      ],
      "metadata": {
        "id": "sUl2_az-1k7J"
      }
    },
    {
      "cell_type": "code",
      "source": [
        "import pandas as pd\n",
        "\n",
        "def parse_zeek_log(lines):\n",
        "    columns = []\n",
        "    data = []\n",
        "    for line in lines:\n",
        "        if line.startswith('#fields'):\n",
        "            columns = line.strip().split('\\t')[1:]  # Skip '#fields'\n",
        "        elif line.startswith('#'):\n",
        "            continue  # Skip other comment lines\n",
        "        else:\n",
        "            data.append(line.strip().split('\\t'))\n",
        "    return pd.DataFrame(data, columns=columns)\n",
        "\n",
        "# Parse conn.log\n",
        "df = parse_zeek_log(log_lines)\n",
        "\n",
        "# Show the DataFrame\n",
        "df.head()\n"
      ],
      "metadata": {
        "id": "zvsB0UgcjSpd"
      },
      "execution_count": null,
      "outputs": []
    },
    {
      "cell_type": "markdown",
      "source": [
        "**Generates a bar chart that visualizes the top 10 source IP addresses (id.orig_h) from the df DataFrame by their count. The chart is displayed with a title, axis labels, and rotated x-axis labels for better readability. The plot uses matplotlib to create and display the graph.**\n",
        "\n",
        "\n",
        "---\n",
        "\n"
      ],
      "metadata": {
        "id": "y9C28R4H1wed"
      }
    },
    {
      "cell_type": "code",
      "source": [
        "import matplotlib.pyplot as plt\n",
        "\n",
        "# Plot top 10 source IPs by count\n",
        "top_ips = df['id.orig_h'].value_counts().head(10)\n",
        "\n",
        "plt.figure(figsize=(10, 6))\n",
        "top_ips.plot(kind='bar', color='skyblue')\n",
        "plt.title('Top 10 Source IPs')\n",
        "plt.xlabel('Source IP')\n",
        "plt.ylabel('Count')\n",
        "plt.xticks(rotation=45, ha='right')\n",
        "plt.tight_layout()\n",
        "plt.show()\n"
      ],
      "metadata": {
        "id": "iBB-FZyzjiiu"
      },
      "execution_count": null,
      "outputs": []
    },
    {
      "cell_type": "markdown",
      "source": [
        "**Generates a bar chart that shows the distribution of connection states (conn_state) from the df DataFrame. It plots the count of each unique connection state, with a title, axis labels, and rotated x-axis labels for clarity. The plot uses matplotlib to display the results.**\n",
        "\n",
        "---\n",
        "\n"
      ],
      "metadata": {
        "id": "e1-AaCs32A9C"
      }
    },
    {
      "cell_type": "code",
      "source": [
        "# Plot distribution of connection states\n",
        "plt.figure(figsize=(8, 5))\n",
        "df['conn_state'].value_counts().plot(kind='bar', color='lightcoral')\n",
        "plt.title('Distribution of Connection States')\n",
        "plt.xlabel('Connection State')\n",
        "plt.ylabel('Count')\n",
        "plt.xticks(rotation=45, ha='right')\n",
        "plt.tight_layout()\n",
        "plt.show()\n"
      ],
      "metadata": {
        "id": "3XZYm34Ijqg2"
      },
      "execution_count": null,
      "outputs": []
    },
    {
      "cell_type": "markdown",
      "source": [
        "# Threat Hunting\n",
        "\n",
        "\n",
        "---\n",
        "\n"
      ],
      "metadata": {
        "id": "X-IXdc0Eb4oK"
      }
    },
    {
      "cell_type": "code",
      "source": [
        "import requests\n",
        "from zipfile import ZipFile\n",
        "\n",
        "# === Step 1: Download the ZIP file ===\n",
        "\n",
        "# URL of the malware traffic capture\n",
        "URL = \"https://www.malware-traffic-analysis.net/2022/01/03/2022-01-03-three-days-of-server-probes-including-log4j-attempts.pcap.zip\"\n",
        "\n",
        "# Path to save the downloaded ZIP file\n",
        "OUTPUT = \"/home/malware-pcap.zip\"\n",
        "\n",
        "# Send GET request with streaming enabled\n",
        "response = requests.get(URL, stream=True)\n",
        "\n",
        "# Download and write to file if response is good\n",
        "if response.status_code == 200:\n",
        "    size_kb = int(response.headers.get(\"Content-Length\", 0)) / 1024\n",
        "    print(f\"Download good, writing {size_kb:.0f} KBytes to {OUTPUT}\")\n",
        "\n",
        "    with open(OUTPUT, 'wb') as f:\n",
        "        for chunk in response.iter_content(chunk_size=8192):\n",
        "            f.write(chunk)\n",
        "    print(\"Download complete.\")\n",
        "else:\n",
        "    print(f\"Failed to download file. Status code: {response.status_code}\")\n",
        "\n",
        "# === Step 2: Unzip the file with password ===\n",
        "\n",
        "try:\n",
        "    with ZipFile(OUTPUT, \"r\") as zip_ref:\n",
        "        zip_ref.extractall(path=\"/home\", pwd=\"infected_20220103\".encode(\"utf-8\"))\n",
        "        print(\"Extraction complete.\")\n",
        "except RuntimeError as e:\n",
        "    print(f\"Failed to extract ZIP file: {e}\")\n"
      ],
      "metadata": {
        "id": "Q1sHOqZCLuA4"
      },
      "execution_count": null,
      "outputs": []
    },
    {
      "cell_type": "code",
      "source": [
        "!sudo add-apt-repository ppa:oisf/suricata-stable -y\n",
        "!sudo apt update\n",
        "!sudo apt install -y suricata\n",
        "!suricata --version"
      ],
      "metadata": {
        "id": "kKBoWhQZBSU6"
      },
      "execution_count": null,
      "outputs": []
    },
    {
      "cell_type": "code",
      "source": [
        "!suricata-update\n",
        "!suricata --version\n",
        "!suricata-update list-sources\n",
        "!suricata-update enable-source tgreen/hunting"
      ],
      "metadata": {
        "id": "mfjl-r9mGPx0"
      },
      "execution_count": null,
      "outputs": []
    },
    {
      "cell_type": "code",
      "source": [
        "LOGDIR = \"/tmp/logs\""
      ],
      "metadata": {
        "id": "SelPWeFrGs2K"
      },
      "execution_count": null,
      "outputs": []
    },
    {
      "cell_type": "code",
      "source": [
        "!rm -rf $LOGDIR && $mkdir $LOGDIR && ls -lah $LOGDIR"
      ],
      "metadata": {
        "id": "zlsZXf65GtnB"
      },
      "execution_count": null,
      "outputs": []
    },
    {
      "cell_type": "code",
      "source": [
        "!mkdir -p /tmp/logs"
      ],
      "metadata": {
        "id": "iHY0Cf7pHDKc"
      },
      "execution_count": null,
      "outputs": []
    },
    {
      "cell_type": "code",
      "source": [
        "LOG4J_PCAP = \"/home/2022-01-03-three-days-of-server-probes-including-log4j-attempts.pcap\""
      ],
      "metadata": {
        "id": "NiG-9JIJG6na"
      },
      "execution_count": null,
      "outputs": []
    },
    {
      "cell_type": "code",
      "source": [
        "!whereis suricata"
      ],
      "metadata": {
        "id": "covS-6OKG9KM"
      },
      "execution_count": null,
      "outputs": []
    },
    {
      "cell_type": "code",
      "source": [
        "!/usr/bin/suricata -S /var/lib/suricata/rules/suricata.rules -l $LOGDIR -r $LOG4J_PCAP -v"
      ],
      "metadata": {
        "id": "_ao5EcrEG-Jj"
      },
      "execution_count": null,
      "outputs": []
    },
    {
      "cell_type": "code",
      "source": [
        "import json"
      ],
      "metadata": {
        "id": "a85L07KjHGWs"
      },
      "execution_count": null,
      "outputs": []
    },
    {
      "cell_type": "code",
      "source": [
        "with open (\"/tmp/logs/eve.json\", \"r\") as handle:\n",
        "  handle.readline ()\n",
        "  for line in handle:\n",
        "    eve = json.loads (line)\n",
        "    if eve.get (\"event_type\", \"\") == \"alert\" and eve.get(\"alert\", {}).get(\"severity\") == 1:\n",
        "      print (json.dumps(eve, indent=2) )\n",
        "      break"
      ],
      "metadata": {
        "id": "-TDt4I2-HHzi"
      },
      "execution_count": null,
      "outputs": []
    },
    {
      "cell_type": "code",
      "source": [
        "%pip install pandas"
      ],
      "metadata": {
        "id": "deKQH4JwHMzc"
      },
      "execution_count": null,
      "outputs": []
    },
    {
      "cell_type": "code",
      "source": [
        "import pandas as pd\n",
        "\n",
        "pd.options.display.html.use_mathjax = False\n",
        "\n",
        "pd.DataFrame ( [{\"src_ip\": \"1.1.1.1\", \"flow_id\": 123}, {\"src_ip\": \"2.2.2.2\", \"flow_id\": 124}])"
      ],
      "metadata": {
        "id": "eHc-RdQbHOTq"
      },
      "execution_count": null,
      "outputs": []
    },
    {
      "cell_type": "code",
      "source": [
        "with open (\"/tmp/logs/eve.json\", \"r\") as handle:\n",
        "  DF = pd. json_normalize ([\n",
        "  json. loads (line) for line in handle\n",
        "\n",
        "])\n",
        "\n",
        "DF"
      ],
      "metadata": {
        "id": "95UfRsBOHPqq"
      },
      "execution_count": null,
      "outputs": []
    },
    {
      "cell_type": "code",
      "source": [
        "DF.shape"
      ],
      "metadata": {
        "id": "1YjnepkQH3Yr"
      },
      "execution_count": null,
      "outputs": []
    },
    {
      "cell_type": "code",
      "source": [
        "print(\"dataframe has %d rows and %d columns\" % DF.shape)"
      ],
      "metadata": {
        "id": "LRt2kU7AH97L"
      },
      "execution_count": null,
      "outputs": []
    },
    {
      "cell_type": "code",
      "source": [
        "COLS_STATS = [c for c in list (DF.columns.values) if c.startswith(\"stats\") ]\n",
        "len(COLS_STATS)"
      ],
      "metadata": {
        "id": "UD-YfH-xH_4M"
      },
      "execution_count": null,
      "outputs": []
    },
    {
      "cell_type": "code",
      "source": [
        "print (\"%d stats cols from total %d\" % (len (COLS_STATS), len (DF.columns.values) ) )"
      ],
      "metadata": {
        "id": "WbszEJSVIAjU"
      },
      "execution_count": null,
      "outputs": []
    },
    {
      "cell_type": "code",
      "source": [
        "COLS_DATA = [c for c in list (DF.columns.values) if not c.startswith (\"stats\") ]\n",
        "print (\"%d data columns\" % len (COLS_DATA) )"
      ],
      "metadata": {
        "id": "QAZJ1uICIIH9"
      },
      "execution_count": null,
      "outputs": []
    },
    {
      "cell_type": "code",
      "source": [
        "DF[COLS_DATA]"
      ],
      "metadata": {
        "id": "335QgACUIKa8"
      },
      "execution_count": null,
      "outputs": []
    },
    {
      "cell_type": "code",
      "source": [
        "DF.describe()"
      ],
      "metadata": {
        "id": "qOa_uQAPIUaN"
      },
      "execution_count": null,
      "outputs": []
    },
    {
      "cell_type": "code",
      "source": [
        "DF.head()"
      ],
      "metadata": {
        "id": "i9Y0tObIIVhr"
      },
      "execution_count": null,
      "outputs": []
    },
    {
      "cell_type": "code",
      "source": [
        "for col in [\"src_port\", \"dest_port\", \"pcap_cnt\"]:\n",
        "  DF[col] = (\n",
        "      DF[col]\n",
        "      .fillna (0)\n",
        "      .astype (int)\n",
        "  )"
      ],
      "metadata": {
        "id": "s8DqCQnKIbA7"
      },
      "execution_count": null,
      "outputs": []
    },
    {
      "cell_type": "code",
      "source": [
        "DF[\"timestamp\"] = pd.to_datetime(DF[\"timestamp\"])"
      ],
      "metadata": {
        "id": "NCVsj8d2Ic4k"
      },
      "execution_count": null,
      "outputs": []
    },
    {
      "cell_type": "code",
      "source": [
        "DF"
      ],
      "metadata": {
        "id": "Fm5m08ImIebK"
      },
      "execution_count": null,
      "outputs": []
    },
    {
      "cell_type": "code",
      "source": [
        "DF.event_type == \"alert\""
      ],
      "metadata": {
        "id": "5pHcDDayIiMO"
      },
      "execution_count": null,
      "outputs": []
    },
    {
      "cell_type": "code",
      "source": [
        "DF_ALERT = (\n",
        "  DF\n",
        "  .loc[DF.event_type == \"alert\"]\n",
        "  .loc[DF [\"alert.category\"] != \"Generic Protocol Command Decode\"]\n",
        "  .sort_values (by=[\"timestamp\"], ascending=True)\n",
        "  .dropna(how=\"all\", axis=1)\n",
        "\n",
        ")\n"
      ],
      "metadata": {
        "id": "eYqmrJOQIlH-"
      },
      "execution_count": null,
      "outputs": []
    },
    {
      "cell_type": "code",
      "source": [
        "DF_ALERT[\"flow_id\"] = DF_ALERT[\"flow_id\"].fillna(0).astype(\"int64\").astype(str)"
      ],
      "metadata": {
        "id": "3hF6ni-bIodT"
      },
      "execution_count": null,
      "outputs": []
    },
    {
      "cell_type": "code",
      "source": [
        "print(\"dataframe has %d rows and %d columns\" % DF_ALERT.shape)"
      ],
      "metadata": {
        "id": "9cnSmlpkIqIz"
      },
      "execution_count": null,
      "outputs": []
    },
    {
      "cell_type": "code",
      "source": [
        "DF_ALERT.head()"
      ],
      "metadata": {
        "id": "McGtBoltIrxz"
      },
      "execution_count": null,
      "outputs": []
    },
    {
      "cell_type": "code",
      "source": [
        "DF_ALERT[[\"timestamp\", \"flow_id\", \"flow.src_ip\", \"flow.dest_ip\", \"alert.signature\", \"alert.category\"]]"
      ],
      "metadata": {
        "id": "nbxbDJ24Iue7"
      },
      "execution_count": null,
      "outputs": []
    },
    {
      "cell_type": "markdown",
      "source": [
        "# Adding Malaysia Time"
      ],
      "metadata": {
        "id": "Xn00IlGOAGz8"
      }
    },
    {
      "cell_type": "code",
      "source": [
        "DF_ALERT[\"timestamp\"] = pd.to_datetime(DF_ALERT[\"timestamp\"])\n",
        "DF_ALERT[\"timestamp_myt\"] = DF_ALERT[\"timestamp\"].dt.tz_convert(\"Asia/Kuala_Lumpur\")\n",
        "DF_ALERT[\"timestamp_myt\"] = DF_ALERT[\"timestamp_myt\"].dt.strftime(\"%Y-%m-%d %H:%M:%S\")\n",
        "DF_ALERT[[\"timestamp\", \"timestamp_myt\", \"flow_id\", \"flow.src_ip\", \"flow.dest_ip\", \"alert.signature\", \"alert.category\"]]"
      ],
      "metadata": {
        "id": "j1BIXBNkUxBE"
      },
      "execution_count": null,
      "outputs": []
    }
  ]
}